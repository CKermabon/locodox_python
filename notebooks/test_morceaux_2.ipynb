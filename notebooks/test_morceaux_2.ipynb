{
 "cells": [
  {
   "cell_type": "code",
   "execution_count": 4,
   "id": "f1ad6354-dbc3-4e02-973b-080db68718e2",
   "metadata": {},
   "outputs": [
    {
     "data": {
      "image/png": "[encoded data removed]",
      "text/plain": [
       "<Figure size 640x480 with 1 Axes>"
      ]
     },
     "metadata": {},
     "output_type": "display_data"
    }
   ],
   "source": [
    "from scipy import optimize\n",
    "import matplotlib.pyplot as plt\n",
    "import numpy as np\n",
    "%matplotlib inline\n",
    "\n",
    "x = np.array([1, 2, 3, 4, 5, 6, 7, 8, 9, 10 ,11, 12, 13, 14, 15], dtype=float)\n",
    "y = np.array([5, 7, 9, 11, 13, 15, 28.92, 42.81, 56.7, 70.59, 84.47, 98.36, 112.25, 126.14, 140.03])\n",
    "\n",
    "def piecewise_linear(x, x0, y0, k1, k2):\n",
    "    return np.piecewise(x, [x < x0], [lambda x:k1*x + y0-k1*x0, lambda x:k2*x + y0-k2*x0])\n",
    "\n",
    "p , e = optimize.curve_fit(piecewise_linear, x, y)\n",
    "xd = np.linspace(0, 15, 100)\n",
    "plt.figure()\n",
    "plt.plot(x, y, \"o\")\n",
    "plt.plot(xd, piecewise_linear(xd, *p))\n",
    "plt.show()"
   ]
  },
  {
   "cell_type": "code",
   "execution_count": 8,
   "id": "74d4bd46-15ce-4b2e-8f42-d7b8b533d9e9",
   "metadata": {},
   "outputs": [
    {
     "data": {
      "text/plain": [
       "array(140)"
      ]
     },
     "execution_count": 8,
     "metadata": {},
     "output_type": "execute_result"
    }
   ],
   "source": [
    "piecewise_linear(15,*p)"
   ]
  },
  {
   "cell_type": "code",
   "execution_count": 9,
   "id": "6144ab7b-7277-46ce-a9a1-0744835dd45f",
   "metadata": {},
   "outputs": [
    {
     "data": {
      "text/plain": [
       "array([ 5.9981956 , 14.9963912 ,  2.        , 13.89012121])"
      ]
     },
     "execution_count": 9,
     "metadata": {},
     "output_type": "execute_result"
    }
   ],
   "source": [
    "p"
   ]
  },
  {
   "cell_type": "code",
   "execution_count": null,
   "id": "8e4ce516-1364-44cd-95df-3305d37531b7",
   "metadata": {},
   "outputs": [],
   "source": [
    "import numpy as np\n",
    "from scipy.optimize import curve_fit\n",
    "import matplotlib.pyplot as plt\n",
    "\n",
    "# Définir la fonction de modèle avec piecewise\n",
    "def model(delta_T, G1, D1, G2, D2):\n",
    "    return np.piecewise(delta_T, \n",
    "                        [delta_T <= 150, delta_T > 150], \n",
    "                        [lambda x: G1 * (1 + (D1 / 100) * (x / 365)), \n",
    "                         lambda x: G2 * (1 + (D2 / 100) * (x / 365))])\n",
    "\n",
    "# Donner les données (toto et delta_T)\n",
    "toto = np.array([1.04265452, 1.04797228, 1.0727775, 1.06277343, 1.07222195, \n",
    "                 np.nan, 1.07610026, 1.08039288, 1.07793261, 1.08784435, \n",
    "                 1.06340867, 1.0614738, 1.0677974, 1.07275803, 1.07631217, \n",
    "                 1.07639408, 1.06534498, 1.06803932, 1.0698106, 1.07220302, \n",
    "                 1.0734672, 1.06462233, 1.07775558, 1.08051735, 1.07818617, \n",
    "                 np.nan, 1.0922453, 1.07884682, 1.07881011, 1.0808995, \n",
    "                 1.08621861, 1.08562633, 1.09010574, 1.07703987, 1.08461016, \n",
    "                 1.06368222, 1.07206531, 1.08109886, 1.07164921, 1.06146712, \n",
    "                 1.05241093, 1.06135769, 1.05495886, 1.05659717, 1.05584371, \n",
    "                 1.05833934, 1.07118316, 1.08051129, 1.0800819, 1.08185227, \n",
    "                 1.07999224, 1.07642863, 1.07947072, 1.0781365, 1.06930166, \n",
    "                 1.08683222, 1.09156563, 1.07816841, 1.09230642, 1.09210568, \n",
    "                 1.07614047, 1.08428401, 1.09043651, 1.09910943, 1.07612254, \n",
    "                 1.08233313, 1.08752193, 1.08263085, 1.09407478, 1.08627888, \n",
    "                 1.09547383, 1.09850017, 1.07534657, 1.07000963, 1.06923419, \n",
    "                 1.06925489, 1.07009384, 1.06583278, 1.05716913, 1.05675979, \n",
    "                 1.07885669, 1.08574363, 1.06941971, 1.07008984, 1.07256245, \n",
    "                 1.07188182, 1.0778642, 1.07812297, 1.06927438, 1.09392159, \n",
    "                 1.07895672, 1.08525696, 1.09737609, 1.09746748, 1.0953274, \n",
    "                 1.08485157, 1.08024222, 1.08880704, 1.09208112, 1.09448081, \n",
    "                 1.08336384, 1.09846465, 1.0870643, 1.10052071, 1.09164362, \n",
    "                 1.10450575, 1.07843222, 1.09070728, 1.07721488, 1.09141691, \n",
    "                 1.08487188, 1.07710079, 1.07649055, 1.0829734, 1.07577504, \n",
    "                 1.07259437, 1.07645914, 1.07557938, 1.07748324, 1.07868413, \n",
    "                 1.0706093, 1.08030489, 1.09246729, 1.08339156, 1.09598207, \n",
    "                 1.0800307, 1.0967532, 1.08387169, 1.09297276, 1.09023536, \n",
    "                 1.0988617, 1.09336068, 1.09112595, 1.10106523, 1.09260758, \n",
    "                 1.08061488, 1.09968578, 1.10462246, 1.10386028, 1.09757669, \n",
    "                 1.08810643, 1.08866708, 1.10512266, 1.09767248, 1.10529093, \n",
    "                 1.09811842, 1.08035055, 1.0708552, 1.07756364, 1.07068397, \n",
    "                 1.07243043, 1.0742843, 1.08067703, 1.08737028, 1.08884129, \n",
    "                 1.07039744, 1.0756953, 1.07974186, 1.08564726, 1.079884, \n",
    "                 1.08611468, 1.09272592, 1.08703132, 1.0962788, 1.08642758, \n",
    "                 1.09834498, 1.08422595, 1.10255863, 1.08602318, 1.09161009, \n",
    "                 1.08580416, 1.10139118, 1.10912887, 1.10692477, 1.10536656, \n",
    "                 1.10457726, 1.11302954, 1.09352169, 1.07890689, 1.09354069, \n",
    "                 1.09112711, 1.09465144, 1.09145379, 1.08979599, 1.08757987, \n",
    "                 1.09728084, 1.08891297, 1.08518955, 1.09576785, 1.09359658, \n",
    "                 1.08629822, 1.08257224, 1.09015563, 1.09482578, 1.09717163])\n",
    "\n",
    "delta_T = np.array([  11.42,  31.29668981,  51.41674769,  71.42152778, \n",
    "                     91.41222222,  111.43925926,  131.4172338,  151.40842593, \n",
    "                     171.4069213,  191.39893519,  211.40471065,  231.4052662, \n",
    "                     251.40890046,  271.40328704,  291.40824074,  311.40733796, \n",
    "                     331.40922454,  351.40813657,  371.40511574,  391.40517361, \n",
    "                     411.40761574,  431.41083333,  451.40625,  471.40518519, \n",
    "                     491.4022338,  511.40541667,  531.40983796,  551.41018519, \n",
    "                     561.41116898,  571.41041667,  581.40788194,  591.40540509, \n",
    "                     601.41260417,  611.40462963,  621.40935185,  631.40740741, \n",
    "                     641.40725694,  651.41081019,  661.41064815,  671.40940972, \n",
    "                     681.40305556,  691.4080787,  701.4094213,  711.40334491, \n",
    "                     721.40944444,  731.4094213,  741.40511574,  751.40497685, \n",
    "                     761.41068287,  771.41123843,  781.40768519,  791.40702546, \n",
    "                     801.41273148,  811.40929398,  821.40763889,  831.42201389, \n",
    "                     841.41515046,  851.42836806,  861.42273148,  871.42207176, \n",
    "                     881.41583333,  891.4184375,  901.41903935,  911.42109954, \n",
    "                     921.42017361,  931.41954861,  941.41880787,  951.42, \n",
    "                     961.42155093,  971.42688657,  981.41060185,  991.40928241, \n",
    "                     1001.42042824, 1011.41883102, 1021.41233796, 1031.40856481, \n",
    "                     1041.40627315, 1051.40501157, 1061.41258102, 1071.40940972, \n",
    "                     1081.40943287, 1091.4275, 1101.40866898, 1111.40696759, \n",
    "                     1121.40894676, 1131.40719907, 1141.40586806, 1151.40679398, \n",
    "                     1161.42016204, 1171.41850694, 1181.41993056, 1191.42278935, \n",
    "                     1201.4133912, 1211.42430556, 1221.42502315, 1231.42729167, \n",
    "                     1241.42313657, 1251.41505787, 1261.42204861, 1271.41621528, \n",
    "                     1281.42034722, 1291.42059028, 1301.40454861, 1311.4059375, \n",
    "                     1321.40399306, 1331.41755787, 1341.40168981, 1351.4134375, \n",
    "                     1361.41108796, 1371.41945602, 1381.40909722, 1391.41101852, \n",
    "                     1401.40796296, 1411.41081019, 1421.40662037, 1431.40527778, \n",
    "                     1441.41298611, 1451.40695602, 1461.41329861, 1471.4084375, \n",
    "                     1481.4047338, 1491.40736111, 1501.40644676, 1511.40555556, \n",
    "                     1521.40515046, 1531.40907407, 1541.4065625, 1551.40833333, \n",
    "                     1561.40822917, 1571.41230324, 1581.41167824, 1591.4091088, \n",
    "                     1601.41103009, 1611.40833333, 1621.40751157, 1631.41238426, \n",
    "                     1641.41388889, 1651.4097338, 1661.41108796, 1671.40866898, \n",
    "                     1681.41123843, 1691.41146991, 1701.41042824, 1711.40633102, \n",
    "                     1721.41034722, 1731.40935185, 1741.41243056, 1751.41049769, \n",
    "                     1761.41131944, 1771.40710648, 1781.40828704, 1791.40751157, \n",
    "                     1801.40954861, 1811.41008102, 1821.40931713, 1831.40892361, \n",
    "                     1841.408125, 1851.40689815, 1861.40907407, 1871.4077662, \n",
    "                     1881.40763889, 1891.40568287, 1901.40957176, 1911.40568287, \n",
    "                     1921.40614583, 1931.40789352, 1941.4080787, 1951.4109375, \n",
    "                     1961.40359954, 1971.41020833, 1981.40540509, 1991.40811343, \n",
    "                     2001.4112963, 2011.41172454, 2021.41010417, 2031.40872685, \n",
    "                     2041.40847222, 2051.41188657, 2061.4112963, 2071.40771991, \n",
    "                     2081.40869213, 2091.40734954, 2101.40929398, 2111.41011574, \n",
    "                     2121.40929398, 2131.40924769, 2141.40975694, 2151.41065972, \n",
    "                     2170.99143519, 2190.57615741, 2210.15677083, 2229.74565972, \n",
    "                     2249.32331019, 2268.90822917, 2288.4959375])\n",
    "\n",
    "# Fit the model to the data\n",
    "params, params_covariance = curve_fit(model, delta_T, toto, p0=[1, 1, 1, 1])\n",
    "\n",
    "G1, D1, G2, D2 = params\n",
    "\n",
    "# Afficher les résultats\n",
    "print(f\"G1: {G1}, D1: {D1}, G2: {G2}, D2: {D2}\")\n",
    "\n",
    "# Tracer les résultats\n",
    "plt.plot(delta_T, toto, label=\"Données réelles\")\n",
    "plt.plot(delta_T, model(delta_T, *params), label=\"Modèle ajusté\", linestyle=\"--\")\n",
    "plt.legend()\n",
    "plt.show()\n"
   ]
  },
  {
   "cell_type": "code",
   "execution_count": 15,
   "id": "8395d037-a784-46c1-8564-dd9dffbf3ae0",
   "metadata": {},
   "outputs": [
    {
     "ename": "AssertionError",
     "evalue": "Not enough dimensions",
     "output_type": "error",
     "traceback": [
      "\u001b[0;31m---------------------------------------------------------------------------\u001b[0m",
      "\u001b[0;31mAssertionError\u001b[0m                            Traceback (most recent call last)",
      "Cell \u001b[0;32mIn[15], line 33\u001b[0m\n\u001b[1;32m     28\u001b[0m delta_T \u001b[38;5;241m=\u001b[39m np\u001b[38;5;241m.\u001b[39marray([  \u001b[38;5;241m11.42\u001b[39m,  \u001b[38;5;241m31.29668981\u001b[39m,  \u001b[38;5;241m51.41674769\u001b[39m,  \u001b[38;5;241m71.42152778\u001b[39m, \n\u001b[1;32m     29\u001b[0m                      \u001b[38;5;241m91.41222222\u001b[39m,  \u001b[38;5;241m111.43925926\u001b[39m,  \u001b[38;5;241m131.4172338\u001b[39m,  \u001b[38;5;241m151.40842593\u001b[39m, \n\u001b[1;32m     30\u001b[0m                      \u001b[38;5;241m171.4069213\u001b[39m,  \u001b[38;5;241m191.39893519\u001b[39m])\n\u001b[1;32m     32\u001b[0m \u001b[38;5;66;03m# Detecter les ruptures dans les données\u001b[39;00m\n\u001b[0;32m---> 33\u001b[0m breakpoints \u001b[38;5;241m=\u001b[39m \u001b[43mdetect_change_points\u001b[49m\u001b[43m(\u001b[49m\u001b[43mdelta_T\u001b[49m\u001b[43m,\u001b[49m\u001b[43m \u001b[49m\u001b[43mtoto\u001b[49m\u001b[43m)\u001b[49m\n\u001b[1;32m     34\u001b[0m \u001b[38;5;28mprint\u001b[39m(\u001b[38;5;124mf\u001b[39m\u001b[38;5;124m\"\u001b[39m\u001b[38;5;124mRuptures détectées aux indices : \u001b[39m\u001b[38;5;132;01m{\u001b[39;00mbreakpoints\u001b[38;5;132;01m}\u001b[39;00m\u001b[38;5;124m\"\u001b[39m)\n\u001b[1;32m     36\u001b[0m \u001b[38;5;66;03m# Segmenter les données en fonction des ruptures\u001b[39;00m\n",
      "Cell \u001b[0;32mIn[15], line 21\u001b[0m, in \u001b[0;36mdetect_change_points\u001b[0;34m(delta_T, toto)\u001b[0m\n\u001b[1;32m     20\u001b[0m \u001b[38;5;28;01mdef\u001b[39;00m \u001b[38;5;21mdetect_change_points\u001b[39m(delta_T, toto):\n\u001b[0;32m---> 21\u001b[0m     model \u001b[38;5;241m=\u001b[39m \u001b[43mPelt\u001b[49m\u001b[43m(\u001b[49m\u001b[43mmodel\u001b[49m\u001b[38;5;241;43m=\u001b[39;49m\u001b[38;5;124;43m\"\u001b[39;49m\u001b[38;5;124;43mlinear\u001b[39;49m\u001b[38;5;124;43m\"\u001b[39;49m\u001b[43m)\u001b[49m\u001b[38;5;241;43m.\u001b[39;49m\u001b[43mfit\u001b[49m\u001b[43m(\u001b[49m\u001b[43mtoto\u001b[49m\u001b[43m)\u001b[49m  \u001b[38;5;66;03m# Utilisation du modèle linéaire pour la détection\u001b[39;00m\n\u001b[1;32m     22\u001b[0m     breakpoints \u001b[38;5;241m=\u001b[39m model\u001b[38;5;241m.\u001b[39mpredict(pen\u001b[38;5;241m=\u001b[39m\u001b[38;5;241m10\u001b[39m)  \u001b[38;5;66;03m# La pénalité est à ajuster pour détecter plus ou moins de ruptures\u001b[39;00m\n\u001b[1;32m     23\u001b[0m     \u001b[38;5;28;01mreturn\u001b[39;00m breakpoints\n",
      "File \u001b[0;32m~/miniconda3/envs/locodox_env/lib/python3.10/site-packages/ruptures/detection/pelt.py:97\u001b[0m, in \u001b[0;36mPelt.fit\u001b[0;34m(self, signal)\u001b[0m\n\u001b[1;32m     88\u001b[0m \u001b[38;5;250m\u001b[39m\u001b[38;5;124;03m\"\"\"Set params.\u001b[39;00m\n\u001b[1;32m     89\u001b[0m \n\u001b[1;32m     90\u001b[0m \u001b[38;5;124;03mArgs:\u001b[39;00m\n\u001b[0;32m   (...)\u001b[0m\n\u001b[1;32m     94\u001b[0m \u001b[38;5;124;03m    self\u001b[39;00m\n\u001b[1;32m     95\u001b[0m \u001b[38;5;124;03m\"\"\"\u001b[39;00m\n\u001b[1;32m     96\u001b[0m \u001b[38;5;66;03m# update params\u001b[39;00m\n\u001b[0;32m---> 97\u001b[0m \u001b[38;5;28;43mself\u001b[39;49m\u001b[38;5;241;43m.\u001b[39;49m\u001b[43mcost\u001b[49m\u001b[38;5;241;43m.\u001b[39;49m\u001b[43mfit\u001b[49m\u001b[43m(\u001b[49m\u001b[43msignal\u001b[49m\u001b[43m)\u001b[49m\n\u001b[1;32m     98\u001b[0m \u001b[38;5;28;01mif\u001b[39;00m signal\u001b[38;5;241m.\u001b[39mndim \u001b[38;5;241m==\u001b[39m \u001b[38;5;241m1\u001b[39m:\n\u001b[1;32m     99\u001b[0m     (n_samples,) \u001b[38;5;241m=\u001b[39m signal\u001b[38;5;241m.\u001b[39mshape\n",
      "File \u001b[0;32m~/miniconda3/envs/locodox_env/lib/python3.10/site-packages/ruptures/costs/costlinear.py:29\u001b[0m, in \u001b[0;36mCostLinear.fit\u001b[0;34m(self, signal)\u001b[0m\n\u001b[1;32m     19\u001b[0m \u001b[38;5;28;01mdef\u001b[39;00m \u001b[38;5;21mfit\u001b[39m(\u001b[38;5;28mself\u001b[39m, signal) \u001b[38;5;241m-\u001b[39m\u001b[38;5;241m>\u001b[39m \u001b[38;5;124m\"\u001b[39m\u001b[38;5;124mCostLinear\u001b[39m\u001b[38;5;124m\"\u001b[39m:\n\u001b[1;32m     20\u001b[0m \u001b[38;5;250m    \u001b[39m\u001b[38;5;124;03m\"\"\"Set parameters of the instance. The first column contains the\u001b[39;00m\n\u001b[1;32m     21\u001b[0m \u001b[38;5;124;03m    observed variable. The other columns contains the covariates.\u001b[39;00m\n\u001b[1;32m     22\u001b[0m \n\u001b[0;32m   (...)\u001b[0m\n\u001b[1;32m     27\u001b[0m \u001b[38;5;124;03m        self\u001b[39;00m\n\u001b[1;32m     28\u001b[0m \u001b[38;5;124;03m    \"\"\"\u001b[39;00m\n\u001b[0;32m---> 29\u001b[0m     \u001b[38;5;28;01massert\u001b[39;00m signal\u001b[38;5;241m.\u001b[39mndim \u001b[38;5;241m>\u001b[39m \u001b[38;5;241m1\u001b[39m, \u001b[38;5;124m\"\u001b[39m\u001b[38;5;124mNot enough dimensions\u001b[39m\u001b[38;5;124m\"\u001b[39m\n\u001b[1;32m     31\u001b[0m     \u001b[38;5;28mself\u001b[39m\u001b[38;5;241m.\u001b[39msignal \u001b[38;5;241m=\u001b[39m signal[:, \u001b[38;5;241m0\u001b[39m]\u001b[38;5;241m.\u001b[39mreshape(\u001b[38;5;241m-\u001b[39m\u001b[38;5;241m1\u001b[39m, \u001b[38;5;241m1\u001b[39m)\n\u001b[1;32m     32\u001b[0m     \u001b[38;5;28mself\u001b[39m\u001b[38;5;241m.\u001b[39mcovar \u001b[38;5;241m=\u001b[39m signal[:, \u001b[38;5;241m1\u001b[39m:]\n",
      "\u001b[0;31mAssertionError\u001b[0m: Not enough dimensions"
     ]
    }
   ],
   "source": [
    "import numpy as np\n",
    "from scipy.optimize import curve_fit\n",
    "import matplotlib.pyplot as plt\n",
    "from ruptures import Pelt, detection  # Pour détecter des ruptures\n",
    "\n",
    "# Définir la fonction modèle par morceaux\n",
    "def model(delta_T, *params):\n",
    "    segments = len(params) // 2\n",
    "    result = np.zeros_like(delta_T)\n",
    "    \n",
    "    # Appliquer un modèle par morceaux\n",
    "    for i in range(segments):\n",
    "        G, D = params[2*i], params[2*i + 1]\n",
    "        condition = (delta_T >= (i * max(delta_T) / segments)) & (delta_T < ((i + 1) * max(delta_T) / segments))\n",
    "        result[condition] = G * (1 + (D / 100) * (delta_T[condition] / 365))\n",
    "    \n",
    "    return result\n",
    "\n",
    "\n",
    "algo = rpt.Binseg(model=\"l2\").fit(NCEP_PPOX/dsair['PPOX_DOXY'].values)\n",
    "bkps = algo.predict(n_bkps)\n",
    "# Fonction pour détecter les ruptures dans les données\n",
    "def detect_change_points(delta_T, toto):\n",
    "    model = Pelt(model=\"linear\").fit(toto)  # Utilisation du modèle linéaire pour la détection\n",
    "    breakpoints = model.predict(pen=10)  # La pénalité est à ajuster pour détecter plus ou moins de ruptures\n",
    "    return breakpoints\n",
    "\n",
    "# Données d'exemple (delta_T et toto)\n",
    "toto = np.array([1.04265452, 1.04797228, 1.0727775, 1.06277343, 1.07222195, \n",
    "                 np.nan, 1.07610026, 1.08039288, 1.07793261, 1.08784435])\n",
    "delta_T = np.array([  11.42,  31.29668981,  51.41674769,  71.42152778, \n",
    "                     91.41222222,  111.43925926,  131.4172338,  151.40842593, \n",
    "                     171.4069213,  191.39893519])\n",
    "\n",
    "# Detecter les ruptures dans les données\n",
    "breakpoints = detect_change_points(delta_T, toto)\n",
    "print(f\"Ruptures détectées aux indices : {breakpoints}\")\n",
    "\n",
    "# Segmenter les données en fonction des ruptures\n",
    "segments = [delta_T[start:end] for start, end in zip(breakpoints[:-1], breakpoints[1:])]\n",
    "segments_values = [toto[start:end] for start, end in zip(breakpoints[:-1], breakpoints[1:])]\n",
    "\n",
    "# Initialiser une liste pour les paramètres du modèle\n",
    "initial_params = []\n",
    "\n",
    "# Ajuster le modèle pour chaque segment\n",
    "for segment, values in zip(segments, segments_values):\n",
    "    # Estimer des paramètres initiaux (par exemple, moyennes simples pour G et D)\n",
    "    G_init = np.mean(values)\n",
    "    D_init = 0.01  # valeur arbitraire de D initiale\n",
    "    \n",
    "    initial_params.extend([G_init, D_init])\n",
    "\n",
    "# Appliquer curve_fit avec segmentation\n",
    "params, params_covariance = curve_fit(lambda x, *params: model(x, *params), \n",
    "                                      delta_T, toto, p0=initial_params)\n",
    "\n",
    "# Afficher les résultats\n",
    "print(\"Paramètres ajustés : \", params)\n",
    "\n",
    "# Tracer les résultats\n",
    "plt.plot(delta_T, toto, label=\"Données réelles\")\n",
    "plt.plot(delta_T, model(delta_T, *params), label=\"Modèle ajusté\", linestyle=\"--\")\n",
    "plt.legend()\n",
    "plt.show()\n"
   ]
  },
  {
   "cell_type": "code",
   "execution_count": 26,
   "id": "ccf234e3-d3aa-4627-baf5-72d6243aa59d",
   "metadata": {},
   "outputs": [
    {
     "name": "stdout",
     "output_type": "stream",
     "text": [
      "Ruptures détectées aux indices : [10]\n"
     ]
    },
    {
     "ename": "TypeError",
     "evalue": "object of type 'numpy.float64' has no len()",
     "output_type": "error",
     "traceback": [
      "\u001b[0;31m---------------------------------------------------------------------------\u001b[0m",
      "\u001b[0;31mTypeError\u001b[0m                                 Traceback (most recent call last)",
      "Cell \u001b[0;32mIn[26], line 54\u001b[0m\n\u001b[1;32m     51\u001b[0m     initial_params\u001b[38;5;241m.\u001b[39mextend([G_init, D_init])\n\u001b[1;32m     53\u001b[0m \u001b[38;5;66;03m# Appliquer curve_fit avec segmentation\u001b[39;00m\n\u001b[0;32m---> 54\u001b[0m params, params_covariance \u001b[38;5;241m=\u001b[39m \u001b[43mcurve_fit\u001b[49m\u001b[43m(\u001b[49m\u001b[38;5;28;43;01mlambda\u001b[39;49;00m\u001b[43m \u001b[49m\u001b[43mx\u001b[49m\u001b[43m,\u001b[49m\u001b[43m \u001b[49m\u001b[38;5;241;43m*\u001b[39;49m\u001b[43mparams\u001b[49m\u001b[43m:\u001b[49m\u001b[43m \u001b[49m\u001b[43mmodel\u001b[49m\u001b[43m(\u001b[49m\u001b[43mx\u001b[49m\u001b[43m,\u001b[49m\u001b[43m \u001b[49m\u001b[38;5;241;43m*\u001b[39;49m\u001b[43mparams\u001b[49m\u001b[43m)\u001b[49m\u001b[43m,\u001b[49m\u001b[43m \u001b[49m\n\u001b[1;32m     55\u001b[0m \u001b[43m                                      \u001b[49m\u001b[43mdelta_T\u001b[49m\u001b[43m,\u001b[49m\u001b[43m \u001b[49m\u001b[43mtoto\u001b[49m\u001b[43m,\u001b[49m\u001b[43m \u001b[49m\u001b[43mp0\u001b[49m\u001b[38;5;241;43m=\u001b[39;49m\u001b[43minitial_params\u001b[49m\u001b[43m,\u001b[49m\u001b[43mnan_policy\u001b[49m\u001b[38;5;241;43m=\u001b[39;49m\u001b[38;5;124;43m'\u001b[39;49m\u001b[38;5;124;43momit\u001b[39;49m\u001b[38;5;124;43m'\u001b[39;49m\u001b[43m)\u001b[49m\n\u001b[1;32m     57\u001b[0m \u001b[38;5;66;03m# Afficher les résultats\u001b[39;00m\n\u001b[1;32m     58\u001b[0m \u001b[38;5;28mprint\u001b[39m(\u001b[38;5;124m\"\u001b[39m\u001b[38;5;124mParamètres ajustés : \u001b[39m\u001b[38;5;124m\"\u001b[39m, params)\n",
      "File \u001b[0;32m~/miniconda3/envs/locodox_env/lib/python3.10/site-packages/scipy/optimize/_minpack_py.py:1002\u001b[0m, in \u001b[0;36mcurve_fit\u001b[0;34m(f, xdata, ydata, p0, sigma, absolute_sigma, check_finite, bounds, method, jac, full_output, nan_policy, **kwargs)\u001b[0m\n\u001b[1;32m   1000\u001b[0m res \u001b[38;5;241m=\u001b[39m leastsq(func, p0, Dfun\u001b[38;5;241m=\u001b[39mjac, full_output\u001b[38;5;241m=\u001b[39m\u001b[38;5;241m1\u001b[39m, \u001b[38;5;241m*\u001b[39m\u001b[38;5;241m*\u001b[39mkwargs)\n\u001b[1;32m   1001\u001b[0m popt, pcov, infodict, errmsg, ier \u001b[38;5;241m=\u001b[39m res\n\u001b[0;32m-> 1002\u001b[0m ysize \u001b[38;5;241m=\u001b[39m \u001b[38;5;28;43mlen\u001b[39;49m\u001b[43m(\u001b[49m\u001b[43minfodict\u001b[49m\u001b[43m[\u001b[49m\u001b[38;5;124;43m'\u001b[39;49m\u001b[38;5;124;43mfvec\u001b[39;49m\u001b[38;5;124;43m'\u001b[39;49m\u001b[43m]\u001b[49m\u001b[43m)\u001b[49m\n\u001b[1;32m   1003\u001b[0m cost \u001b[38;5;241m=\u001b[39m np\u001b[38;5;241m.\u001b[39msum(infodict[\u001b[38;5;124m'\u001b[39m\u001b[38;5;124mfvec\u001b[39m\u001b[38;5;124m'\u001b[39m] \u001b[38;5;241m*\u001b[39m\u001b[38;5;241m*\u001b[39m \u001b[38;5;241m2\u001b[39m)\n\u001b[1;32m   1004\u001b[0m \u001b[38;5;28;01mif\u001b[39;00m ier \u001b[38;5;129;01mnot\u001b[39;00m \u001b[38;5;129;01min\u001b[39;00m [\u001b[38;5;241m1\u001b[39m, \u001b[38;5;241m2\u001b[39m, \u001b[38;5;241m3\u001b[39m, \u001b[38;5;241m4\u001b[39m]:\n",
      "\u001b[0;31mTypeError\u001b[0m: object of type 'numpy.float64' has no len()"
     ]
    }
   ],
   "source": [
    "import numpy as np\n",
    "from scipy.optimize import curve_fit\n",
    "import matplotlib.pyplot as plt\n",
    "from ruptures import Pelt, detection  # Pour détecter des ruptures\n",
    "import ruptures as rpt\n",
    "\n",
    "# Définir la fonction modèle par morceaux\n",
    "def model(delta_T, *params):\n",
    "    segments = len(params) // 2\n",
    "    result = np.zeros_like(delta_T)\n",
    "    \n",
    "    # Appliquer un modèle par morceaux\n",
    "    for i in range(segments):\n",
    "        G, D = params[2*i], params[2*i + 1]\n",
    "        condition = (delta_T >= (i * max(delta_T) / segments)) & (delta_T < ((i + 1) * max(delta_T) / segments))\n",
    "        result[condition] = G * (1 + (D / 100) * (delta_T[condition] / 365))\n",
    "    \n",
    "    return result\n",
    "\n",
    "\n",
    "# Fonction pour détecter les ruptures dans les données\n",
    "def detect_change_points(delta_T, toto):\n",
    "    algo = rpt.Binseg(model=\"l2\").fit(toto)\n",
    "    breakpoints = algo.predict(pen=10)  # La pénalité est à ajuster pour détecter plus ou moins de ruptures\n",
    "    return breakpoints\n",
    "\n",
    "# Données d'exemple (delta_T et toto)\n",
    "toto = np.array([1.04265452, 1.04797228, 1.0727775, 1.06277343, 1.07222195, \n",
    "                 np.nan, 1.07610026, 1.08039288, 1.07793261, 1.08784435])\n",
    "delta_T = np.array([  11.42,  31.29668981,  51.41674769,  71.42152778, \n",
    "                     91.41222222,  111.43925926,  131.4172338,  151.40842593, \n",
    "                     171.4069213,  191.39893519])\n",
    "\n",
    "# Detecter les ruptures dans les données\n",
    "breakpoints = detect_change_points(delta_T, toto)\n",
    "print(f\"Ruptures détectées aux indices : {breakpoints}\")\n",
    "\n",
    "# Segmenter les données en fonction des ruptures\n",
    "segments = [delta_T[start:end] for start, end in zip(breakpoints[:-1], breakpoints[1:])]\n",
    "segments_values = [toto[start:end] for start, end in zip(breakpoints[:-1], breakpoints[1:])]\n",
    "\n",
    "# Initialiser une liste pour les paramètres du modèle\n",
    "initial_params = []\n",
    "\n",
    "# Ajuster le modèle pour chaque segment\n",
    "for segment, values in zip(segments, segments_values):\n",
    "    # Estimer des paramètres initiaux (par exemple, moyennes simples pour G et D)\n",
    "    G_init = np.mean(values)\n",
    "    D_init = 0.01  # valeur arbitraire de D initiale\n",
    "    \n",
    "    initial_params.extend([G_init, D_init])\n",
    "\n",
    "# Appliquer curve_fit avec segmentation\n",
    "params, params_covariance = curve_fit(lambda x, *params: model(x, *params), \n",
    "                                      delta_T, toto, p0=initial_params,nan_policy='omit')\n",
    "\n",
    "# Afficher les résultats\n",
    "print(\"Paramètres ajustés : \", params)\n",
    "\n",
    "# Tracer les résultats\n",
    "plt.plot(delta_T, toto, label=\"Données réelles\")\n",
    "plt.plot(delta_T, model(delta_T, *params), label=\"Modèle ajusté\", linestyle=\"--\")\n",
    "plt.legend()\n",
    "plt.show()\n"
   ]
  },
  {
   "cell_type": "code",
   "execution_count": 28,
   "id": "ee3271ca-a572-4dfe-aa5a-18d694735768",
   "metadata": {},
   "outputs": [
    {
     "data": {
      "text/plain": [
       "191.39893519"
      ]
     },
     "execution_count": 28,
     "metadata": {},
     "output_type": "execute_result"
    }
   ],
   "source": [
    "delta_T[10-1]"
   ]
  },
  {
   "cell_type": "code",
   "execution_count": 24,
   "id": "9c62e06b-6787-4a9b-9f0b-76add54f5c8e",
   "metadata": {},
   "outputs": [
    {
     "ename": "AssertionError",
     "evalue": "Not enough dimensions",
     "output_type": "error",
     "traceback": [
      "\u001b[0;31m---------------------------------------------------------------------------\u001b[0m",
      "\u001b[0;31mAssertionError\u001b[0m                            Traceback (most recent call last)",
      "Cell \u001b[0;32mIn[24], line 34\u001b[0m\n\u001b[1;32m     29\u001b[0m delta_T \u001b[38;5;241m=\u001b[39m np\u001b[38;5;241m.\u001b[39marray([  \u001b[38;5;241m11.42\u001b[39m,  \u001b[38;5;241m31.29668981\u001b[39m,  \u001b[38;5;241m51.41674769\u001b[39m,  \u001b[38;5;241m71.42152778\u001b[39m, \n\u001b[1;32m     30\u001b[0m                      \u001b[38;5;241m91.41222222\u001b[39m,  \u001b[38;5;241m111.43925926\u001b[39m,  \u001b[38;5;241m131.4172338\u001b[39m,  \u001b[38;5;241m151.40842593\u001b[39m, \n\u001b[1;32m     31\u001b[0m                      \u001b[38;5;241m171.4069213\u001b[39m,  \u001b[38;5;241m191.39893519\u001b[39m])\n\u001b[1;32m     33\u001b[0m \u001b[38;5;66;03m# Detecter les ruptures dans les données\u001b[39;00m\n\u001b[0;32m---> 34\u001b[0m breakpoints \u001b[38;5;241m=\u001b[39m \u001b[43mdetect_change_points\u001b[49m\u001b[43m(\u001b[49m\u001b[43mdelta_T\u001b[49m\u001b[43m,\u001b[49m\u001b[43m \u001b[49m\u001b[43mtoto\u001b[49m\u001b[43m)\u001b[49m\n\u001b[1;32m     35\u001b[0m \u001b[38;5;28mprint\u001b[39m(\u001b[38;5;124mf\u001b[39m\u001b[38;5;124m\"\u001b[39m\u001b[38;5;124mRuptures détectées aux indices : \u001b[39m\u001b[38;5;132;01m{\u001b[39;00mbreakpoints\u001b[38;5;132;01m}\u001b[39;00m\u001b[38;5;124m\"\u001b[39m)\n\u001b[1;32m     37\u001b[0m \u001b[38;5;66;03m# Segmenter les données en fonction des ruptures\u001b[39;00m\n",
      "Cell \u001b[0;32mIn[24], line 22\u001b[0m, in \u001b[0;36mdetect_change_points\u001b[0;34m(delta_T, toto)\u001b[0m\n\u001b[1;32m     21\u001b[0m \u001b[38;5;28;01mdef\u001b[39;00m \u001b[38;5;21mdetect_change_points\u001b[39m(delta_T, toto):\n\u001b[0;32m---> 22\u001b[0m     model \u001b[38;5;241m=\u001b[39m \u001b[43mPelt\u001b[49m\u001b[43m(\u001b[49m\u001b[43mmodel\u001b[49m\u001b[38;5;241;43m=\u001b[39;49m\u001b[38;5;124;43m\"\u001b[39;49m\u001b[38;5;124;43mlinear\u001b[39;49m\u001b[38;5;124;43m\"\u001b[39;49m\u001b[43m)\u001b[49m\u001b[38;5;241;43m.\u001b[39;49m\u001b[43mfit\u001b[49m\u001b[43m(\u001b[49m\u001b[43mtoto\u001b[49m\u001b[43m)\u001b[49m  \u001b[38;5;66;03m# Utilisation du modèle linéaire pour la détection\u001b[39;00m\n\u001b[1;32m     23\u001b[0m     breakpoints \u001b[38;5;241m=\u001b[39m model\u001b[38;5;241m.\u001b[39mpredict(pen\u001b[38;5;241m=\u001b[39m\u001b[38;5;241m10\u001b[39m)  \u001b[38;5;66;03m# La pénalité est à ajuster pour détecter plus ou moins de ruptures\u001b[39;00m\n\u001b[1;32m     24\u001b[0m     \u001b[38;5;28;01mreturn\u001b[39;00m breakpoints\n",
      "File \u001b[0;32m~/miniconda3/envs/locodox_env/lib/python3.10/site-packages/ruptures/detection/pelt.py:97\u001b[0m, in \u001b[0;36mPelt.fit\u001b[0;34m(self, signal)\u001b[0m\n\u001b[1;32m     88\u001b[0m \u001b[38;5;250m\u001b[39m\u001b[38;5;124;03m\"\"\"Set params.\u001b[39;00m\n\u001b[1;32m     89\u001b[0m \n\u001b[1;32m     90\u001b[0m \u001b[38;5;124;03mArgs:\u001b[39;00m\n\u001b[0;32m   (...)\u001b[0m\n\u001b[1;32m     94\u001b[0m \u001b[38;5;124;03m    self\u001b[39;00m\n\u001b[1;32m     95\u001b[0m \u001b[38;5;124;03m\"\"\"\u001b[39;00m\n\u001b[1;32m     96\u001b[0m \u001b[38;5;66;03m# update params\u001b[39;00m\n\u001b[0;32m---> 97\u001b[0m \u001b[38;5;28;43mself\u001b[39;49m\u001b[38;5;241;43m.\u001b[39;49m\u001b[43mcost\u001b[49m\u001b[38;5;241;43m.\u001b[39;49m\u001b[43mfit\u001b[49m\u001b[43m(\u001b[49m\u001b[43msignal\u001b[49m\u001b[43m)\u001b[49m\n\u001b[1;32m     98\u001b[0m \u001b[38;5;28;01mif\u001b[39;00m signal\u001b[38;5;241m.\u001b[39mndim \u001b[38;5;241m==\u001b[39m \u001b[38;5;241m1\u001b[39m:\n\u001b[1;32m     99\u001b[0m     (n_samples,) \u001b[38;5;241m=\u001b[39m signal\u001b[38;5;241m.\u001b[39mshape\n",
      "File \u001b[0;32m~/miniconda3/envs/locodox_env/lib/python3.10/site-packages/ruptures/costs/costlinear.py:29\u001b[0m, in \u001b[0;36mCostLinear.fit\u001b[0;34m(self, signal)\u001b[0m\n\u001b[1;32m     19\u001b[0m \u001b[38;5;28;01mdef\u001b[39;00m \u001b[38;5;21mfit\u001b[39m(\u001b[38;5;28mself\u001b[39m, signal) \u001b[38;5;241m-\u001b[39m\u001b[38;5;241m>\u001b[39m \u001b[38;5;124m\"\u001b[39m\u001b[38;5;124mCostLinear\u001b[39m\u001b[38;5;124m\"\u001b[39m:\n\u001b[1;32m     20\u001b[0m \u001b[38;5;250m    \u001b[39m\u001b[38;5;124;03m\"\"\"Set parameters of the instance. The first column contains the\u001b[39;00m\n\u001b[1;32m     21\u001b[0m \u001b[38;5;124;03m    observed variable. The other columns contains the covariates.\u001b[39;00m\n\u001b[1;32m     22\u001b[0m \n\u001b[0;32m   (...)\u001b[0m\n\u001b[1;32m     27\u001b[0m \u001b[38;5;124;03m        self\u001b[39;00m\n\u001b[1;32m     28\u001b[0m \u001b[38;5;124;03m    \"\"\"\u001b[39;00m\n\u001b[0;32m---> 29\u001b[0m     \u001b[38;5;28;01massert\u001b[39;00m signal\u001b[38;5;241m.\u001b[39mndim \u001b[38;5;241m>\u001b[39m \u001b[38;5;241m1\u001b[39m, \u001b[38;5;124m\"\u001b[39m\u001b[38;5;124mNot enough dimensions\u001b[39m\u001b[38;5;124m\"\u001b[39m\n\u001b[1;32m     31\u001b[0m     \u001b[38;5;28mself\u001b[39m\u001b[38;5;241m.\u001b[39msignal \u001b[38;5;241m=\u001b[39m signal[:, \u001b[38;5;241m0\u001b[39m]\u001b[38;5;241m.\u001b[39mreshape(\u001b[38;5;241m-\u001b[39m\u001b[38;5;241m1\u001b[39m, \u001b[38;5;241m1\u001b[39m)\n\u001b[1;32m     32\u001b[0m     \u001b[38;5;28mself\u001b[39m\u001b[38;5;241m.\u001b[39mcovar \u001b[38;5;241m=\u001b[39m signal[:, \u001b[38;5;241m1\u001b[39m:]\n",
      "\u001b[0;31mAssertionError\u001b[0m: Not enough dimensions"
     ]
    }
   ],
   "source": [
    "import numpy as np\n",
    "from scipy.optimize import curve_fit\n",
    "import matplotlib.pyplot as plt\n",
    "from ruptures import Pelt, detection  # Pour détecter des ruptures\n",
    "\n",
    "# Définir la fonction modèle par morceaux\n",
    "def model(delta_T, *params):\n",
    "    segments = len(params) // 2\n",
    "    result = np.zeros_like(delta_T)\n",
    "    \n",
    "    # Appliquer un modèle par morceaux\n",
    "    for i in range(segments):\n",
    "        G, D = params[2*i], params[2*i + 1]\n",
    "        condition = (delta_T >= (i * max(delta_T) / segments)) & (delta_T < ((i + 1) * max(delta_T) / segments))\n",
    "        result[condition] = G * (1 + (D / 100) * (delta_T[condition] / 365))\n",
    "    \n",
    "    return result\n",
    "\n",
    "\n",
    "# Fonction pour détecter les ruptures dans les données\n",
    "def detect_change_points(delta_T, toto):\n",
    "    model = Pelt(model=\"linear\").fit(toto)  # Utilisation du modèle linéaire pour la détection\n",
    "    breakpoints = model.predict(pen=10)  # La pénalité est à ajuster pour détecter plus ou moins de ruptures\n",
    "    return breakpoints\n",
    "\n",
    "# Données d'exemple (delta_T et toto)\n",
    "toto = np.array([1.04265452, 1.04797228, 1.0727775, 1.06277343, 1.07222195, \n",
    "                 np.nan, 1.07610026, 1.08039288, 1.07793261, 1.08784435])\n",
    "delta_T = np.array([  11.42,  31.29668981,  51.41674769,  71.42152778, \n",
    "                     91.41222222,  111.43925926,  131.4172338,  151.40842593, \n",
    "                     171.4069213,  191.39893519])\n",
    "\n",
    "# Detecter les ruptures dans les données\n",
    "breakpoints = detect_change_points(delta_T, toto)\n",
    "print(f\"Ruptures détectées aux indices : {breakpoints}\")\n",
    "\n",
    "# Segmenter les données en fonction des ruptures\n",
    "segments = [delta_T[start:end] for start, end in zip(breakpoints[:-1], breakpoints[1:])]\n",
    "segments_values = [toto[start:end] for start, end in zip(breakpoints[:-1], breakpoints[1:])]\n",
    "\n",
    "# Initialiser une liste pour les paramètres du modèle\n",
    "initial_params = []\n",
    "\n",
    "# Ajuster le modèle pour chaque segment\n",
    "for segment, values in zip(segments, segments_values):\n",
    "    # Estimer des paramètres initiaux (par exemple, moyennes simples pour G et D)\n",
    "    G_init = np.mean(values)\n",
    "    D_init = 0.01  # valeur arbitraire de D initiale\n",
    "    \n",
    "    initial_params.extend([G_init, D_init])\n",
    "\n",
    "# Appliquer curve_fit avec segmentation\n",
    "params, params_covariance = curve_fit(lambda x, *params: model(x, *params), \n",
    "                                      delta_T, toto, p0=initial_params)\n",
    "\n",
    "# Afficher les résultats\n",
    "print(\"Paramètres ajustés : \", params)\n",
    "\n",
    "# Tracer les résultats\n",
    "plt.plot(delta_T, toto, label=\"Données réelles\")\n",
    "plt.plot(delta_T, model(delta_T, *params), label=\"Modèle ajusté\", linestyle=\"--\")\n",
    "plt.legend()\n",
    "plt.show()\n"
   ]
  },
  {
   "cell_type": "code",
   "execution_count": 25,
   "id": "6a882bb7-cb39-4a2e-a247-99812868ead7",
   "metadata": {},
   "outputs": [
    {
     "ename": "AssertionError",
     "evalue": "Not enough dimensions",
     "output_type": "error",
     "traceback": [
      "\u001b[0;31m---------------------------------------------------------------------------\u001b[0m",
      "\u001b[0;31mAssertionError\u001b[0m                            Traceback (most recent call last)",
      "Cell \u001b[0;32mIn[25], line 1\u001b[0m\n\u001b[0;32m----> 1\u001b[0m model \u001b[38;5;241m=\u001b[39m \u001b[43mPelt\u001b[49m\u001b[43m(\u001b[49m\u001b[43mmodel\u001b[49m\u001b[38;5;241;43m=\u001b[39;49m\u001b[38;5;124;43m\"\u001b[39;49m\u001b[38;5;124;43mlinear\u001b[39;49m\u001b[38;5;124;43m\"\u001b[39;49m\u001b[43m)\u001b[49m\u001b[38;5;241;43m.\u001b[39;49m\u001b[43mfit\u001b[49m\u001b[43m(\u001b[49m\u001b[43mtoto\u001b[49m\u001b[43m)\u001b[49m\n",
      "File \u001b[0;32m~/miniconda3/envs/locodox_env/lib/python3.10/site-packages/ruptures/detection/pelt.py:97\u001b[0m, in \u001b[0;36mPelt.fit\u001b[0;34m(self, signal)\u001b[0m\n\u001b[1;32m     88\u001b[0m \u001b[38;5;250m\u001b[39m\u001b[38;5;124;03m\"\"\"Set params.\u001b[39;00m\n\u001b[1;32m     89\u001b[0m \n\u001b[1;32m     90\u001b[0m \u001b[38;5;124;03mArgs:\u001b[39;00m\n\u001b[0;32m   (...)\u001b[0m\n\u001b[1;32m     94\u001b[0m \u001b[38;5;124;03m    self\u001b[39;00m\n\u001b[1;32m     95\u001b[0m \u001b[38;5;124;03m\"\"\"\u001b[39;00m\n\u001b[1;32m     96\u001b[0m \u001b[38;5;66;03m# update params\u001b[39;00m\n\u001b[0;32m---> 97\u001b[0m \u001b[38;5;28;43mself\u001b[39;49m\u001b[38;5;241;43m.\u001b[39;49m\u001b[43mcost\u001b[49m\u001b[38;5;241;43m.\u001b[39;49m\u001b[43mfit\u001b[49m\u001b[43m(\u001b[49m\u001b[43msignal\u001b[49m\u001b[43m)\u001b[49m\n\u001b[1;32m     98\u001b[0m \u001b[38;5;28;01mif\u001b[39;00m signal\u001b[38;5;241m.\u001b[39mndim \u001b[38;5;241m==\u001b[39m \u001b[38;5;241m1\u001b[39m:\n\u001b[1;32m     99\u001b[0m     (n_samples,) \u001b[38;5;241m=\u001b[39m signal\u001b[38;5;241m.\u001b[39mshape\n",
      "File \u001b[0;32m~/miniconda3/envs/locodox_env/lib/python3.10/site-packages/ruptures/costs/costlinear.py:29\u001b[0m, in \u001b[0;36mCostLinear.fit\u001b[0;34m(self, signal)\u001b[0m\n\u001b[1;32m     19\u001b[0m \u001b[38;5;28;01mdef\u001b[39;00m \u001b[38;5;21mfit\u001b[39m(\u001b[38;5;28mself\u001b[39m, signal) \u001b[38;5;241m-\u001b[39m\u001b[38;5;241m>\u001b[39m \u001b[38;5;124m\"\u001b[39m\u001b[38;5;124mCostLinear\u001b[39m\u001b[38;5;124m\"\u001b[39m:\n\u001b[1;32m     20\u001b[0m \u001b[38;5;250m    \u001b[39m\u001b[38;5;124;03m\"\"\"Set parameters of the instance. The first column contains the\u001b[39;00m\n\u001b[1;32m     21\u001b[0m \u001b[38;5;124;03m    observed variable. The other columns contains the covariates.\u001b[39;00m\n\u001b[1;32m     22\u001b[0m \n\u001b[0;32m   (...)\u001b[0m\n\u001b[1;32m     27\u001b[0m \u001b[38;5;124;03m        self\u001b[39;00m\n\u001b[1;32m     28\u001b[0m \u001b[38;5;124;03m    \"\"\"\u001b[39;00m\n\u001b[0;32m---> 29\u001b[0m     \u001b[38;5;28;01massert\u001b[39;00m signal\u001b[38;5;241m.\u001b[39mndim \u001b[38;5;241m>\u001b[39m \u001b[38;5;241m1\u001b[39m, \u001b[38;5;124m\"\u001b[39m\u001b[38;5;124mNot enough dimensions\u001b[39m\u001b[38;5;124m\"\u001b[39m\n\u001b[1;32m     31\u001b[0m     \u001b[38;5;28mself\u001b[39m\u001b[38;5;241m.\u001b[39msignal \u001b[38;5;241m=\u001b[39m signal[:, \u001b[38;5;241m0\u001b[39m]\u001b[38;5;241m.\u001b[39mreshape(\u001b[38;5;241m-\u001b[39m\u001b[38;5;241m1\u001b[39m, \u001b[38;5;241m1\u001b[39m)\n\u001b[1;32m     32\u001b[0m     \u001b[38;5;28mself\u001b[39m\u001b[38;5;241m.\u001b[39mcovar \u001b[38;5;241m=\u001b[39m signal[:, \u001b[38;5;241m1\u001b[39m:]\n",
      "\u001b[0;31mAssertionError\u001b[0m: Not enough dimensions"
     ]
    }
   ],
   "source": [
    "model = Pelt(model=\"linear\").fit(toto)  # Utilisation du modèle linéaire pour la détection\n"
   ]
  },
  {
   "cell_type": "code",
   "execution_count": null,
   "id": "4c0c710c-1d8f-43ef-a8db-d060dd740ec1",
   "metadata": {},
   "outputs": [],
   "source": []
  }
 ],
 "metadata": {
  "kernelspec": {
   "display_name": "locodox_env",
   "language": "python",
   "name": "locodox_env"
  },
  "language_info": {
   "codemirror_mode": {
    "name": "ipython",
    "version": 3
   },
   "file_extension": ".py",
   "mimetype": "text/x-python",
   "name": "python",
   "nbconvert_exporter": "python",
   "pygments_lexer": "ipython3",
   "version": "3.10.13"
  }
 },
 "nbformat": 4,
 "nbformat_minor": 5
}
